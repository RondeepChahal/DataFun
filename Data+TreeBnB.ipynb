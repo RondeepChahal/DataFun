{
 "cells": [
  {
   "cell_type": "code",
   "execution_count": 19,
   "metadata": {
    "collapsed": true
   },
   "outputs": [],
   "source": [
    "# Using pandas and numpy\n",
    "import pandas as pd\n",
    "import numpy as np"
   ]
  },
  {
   "cell_type": "code",
   "execution_count": 20,
   "metadata": {
    "collapsed": false
   },
   "outputs": [],
   "source": [
    "# Grabbing the data from the Pricenomics csv\n",
    "df = pd.read_csv(\"Data+for+TreefortBnB+Puzzle.csv\")"
   ]
  },
  {
   "cell_type": "code",
   "execution_count": 21,
   "metadata": {
    "collapsed": false
   },
   "outputs": [],
   "source": [
    "# Dropping the unneccesary columns for calculating the median\n",
    "df.drop([\"# of Reviews\", \"Unique id\"],1,inplace=True)"
   ]
  },
  {
   "cell_type": "code",
   "execution_count": 22,
   "metadata": {
    "collapsed": false
   },
   "outputs": [],
   "source": [
    "# Correcting and standardizing capitalization for names of cities\n",
    "df.City = map(str.title, df.City)"
   ]
  },
  {
   "cell_type": "code",
   "execution_count": 23,
   "metadata": {
    "collapsed": false
   },
   "outputs": [
    {
     "data": {
      "text/html": [
       "<div>\n",
       "<table border=\"1\" class=\"dataframe\">\n",
       "  <thead>\n",
       "    <tr style=\"text-align: right;\">\n",
       "      <th></th>\n",
       "      <th>City</th>\n",
       "      <th>State</th>\n",
       "      <th>$ Price</th>\n",
       "    </tr>\n",
       "  </thead>\n",
       "  <tbody>\n",
       "    <tr>\n",
       "      <th>0</th>\n",
       "      <td>Portland</td>\n",
       "      <td>OR</td>\n",
       "      <td>75</td>\n",
       "    </tr>\n",
       "    <tr>\n",
       "      <th>1</th>\n",
       "      <td>San Diego</td>\n",
       "      <td>CA</td>\n",
       "      <td>95</td>\n",
       "    </tr>\n",
       "    <tr>\n",
       "      <th>2</th>\n",
       "      <td>New York</td>\n",
       "      <td>NY</td>\n",
       "      <td>149</td>\n",
       "    </tr>\n",
       "    <tr>\n",
       "      <th>3</th>\n",
       "      <td>Los Angeles</td>\n",
       "      <td>CA</td>\n",
       "      <td>199</td>\n",
       "    </tr>\n",
       "    <tr>\n",
       "      <th>4</th>\n",
       "      <td>Denver</td>\n",
       "      <td>CO</td>\n",
       "      <td>56</td>\n",
       "    </tr>\n",
       "  </tbody>\n",
       "</table>\n",
       "</div>"
      ],
      "text/plain": [
       "          City State  $ Price\n",
       "0     Portland    OR       75\n",
       "1    San Diego    CA       95\n",
       "2     New York    NY      149\n",
       "3  Los Angeles    CA      199\n",
       "4       Denver    CO       56"
      ]
     },
     "execution_count": 23,
     "metadata": {},
     "output_type": "execute_result"
    }
   ],
   "source": [
    "# Taking a look at the data\n",
    "df.head()"
   ]
  },
  {
   "cell_type": "code",
   "execution_count": 24,
   "metadata": {
    "collapsed": false
   },
   "outputs": [],
   "source": [
    "# Pivot to set row index as \"City\" and \"State\" pairs, so that cities in different states\n",
    "# don't get confused for being the same thing.\n",
    "\n",
    "# Also, aggregating price for each \"City\" and \"State\" pair by median and count (frequency of City & State pair in data)\n",
    "pivotDF = pd.pivot_table(df, index=[\"City\",\"State\"],values=['$ Price'],aggfunc=[np.median,(lambda arr: arr.count())])"
   ]
  },
  {
   "cell_type": "code",
   "execution_count": 25,
   "metadata": {
    "collapsed": false
   },
   "outputs": [
    {
     "data": {
      "text/html": [
       "<div>\n",
       "<table border=\"1\" class=\"dataframe\">\n",
       "  <thead>\n",
       "    <tr>\n",
       "      <th></th>\n",
       "      <th></th>\n",
       "      <th>median</th>\n",
       "      <th>&lt;lambda&gt;</th>\n",
       "    </tr>\n",
       "    <tr>\n",
       "      <th></th>\n",
       "      <th></th>\n",
       "      <th>$ Price</th>\n",
       "      <th>$ Price</th>\n",
       "    </tr>\n",
       "    <tr>\n",
       "      <th>City</th>\n",
       "      <th>State</th>\n",
       "      <th></th>\n",
       "      <th></th>\n",
       "    </tr>\n",
       "  </thead>\n",
       "  <tbody>\n",
       "    <tr>\n",
       "      <th>Albuquerque</th>\n",
       "      <th>NM</th>\n",
       "      <td>75.0</td>\n",
       "      <td>95</td>\n",
       "    </tr>\n",
       "    <tr>\n",
       "      <th>Alexandria</th>\n",
       "      <th>VA</th>\n",
       "      <td>104.5</td>\n",
       "      <td>66</td>\n",
       "    </tr>\n",
       "    <tr>\n",
       "      <th>Anchorage</th>\n",
       "      <th>AK</th>\n",
       "      <td>123.5</td>\n",
       "      <td>50</td>\n",
       "    </tr>\n",
       "    <tr>\n",
       "      <th>Ann Arbor</th>\n",
       "      <th>MI</th>\n",
       "      <td>98.0</td>\n",
       "      <td>63</td>\n",
       "    </tr>\n",
       "    <tr>\n",
       "      <th>Arlington</th>\n",
       "      <th>VA</th>\n",
       "      <td>106.5</td>\n",
       "      <td>214</td>\n",
       "    </tr>\n",
       "  </tbody>\n",
       "</table>\n",
       "</div>"
      ],
      "text/plain": [
       "                   median <lambda>\n",
       "                  $ Price  $ Price\n",
       "City        State                 \n",
       "Albuquerque NM       75.0       95\n",
       "Alexandria  VA      104.5       66\n",
       "Anchorage   AK      123.5       50\n",
       "Ann Arbor   MI       98.0       63\n",
       "Arlington   VA      106.5      214"
      ]
     },
     "execution_count": 25,
     "metadata": {},
     "output_type": "execute_result"
    }
   ],
   "source": [
    "# Checking out the data, looks good, though column named <labmda> could be more descriptive\n",
    "pivotDF.head()"
   ]
  },
  {
   "cell_type": "code",
   "execution_count": null,
   "metadata": {
    "collapsed": false
   },
   "outputs": [],
   "source": []
  },
  {
   "cell_type": "code",
   "execution_count": 26,
   "metadata": {
    "collapsed": false
   },
   "outputs": [],
   "source": [
    "# Renamed '<lambdad>' as 'count'\n",
    "pivotDF.rename(columns={'<lambda>':'count'},inplace=True)"
   ]
  },
  {
   "cell_type": "code",
   "execution_count": 27,
   "metadata": {
    "collapsed": false
   },
   "outputs": [
    {
     "data": {
      "text/plain": [
       "MultiIndex(levels=[[u'count', u'median'], [u'$ Price']],\n",
       "           labels=[[1, 0], [0, 0]])"
      ]
     },
     "execution_count": 27,
     "metadata": {},
     "output_type": "execute_result"
    }
   ],
   "source": [
    "# Looking at the column data to figure out how to issue commands to sort by median\n",
    "pivotDF.columns"
   ]
  },
  {
   "cell_type": "code",
   "execution_count": 28,
   "metadata": {
    "collapsed": false
   },
   "outputs": [],
   "source": [
    "# Sorting by median, and then sorting within that sort by frequency of the city state pair in the data set\n",
    "pivotDF.sort_values([('median','$ Price'),('count','$ Price')],ascending=False, inplace=True)"
   ]
  },
  {
   "cell_type": "code",
   "execution_count": 29,
   "metadata": {
    "collapsed": false
   },
   "outputs": [
    {
     "name": "stdout",
     "output_type": "stream",
     "text": [
      "                         median   count\n",
      "                        $ Price $ Price\n",
      "City              State                \n",
      "Indianapolis      IN      650.0     251\n",
      "Madison           CT      450.0       1\n",
      "Paris             TX      439.0       1\n",
      "Carmel            CA      350.0      31\n",
      "Malibu            CA      304.0      92\n",
      "Park City         UT      299.0     229\n",
      "Truckee           NV      275.0      67\n",
      "Healdsburg        CA      275.0      49\n",
      "Laguna Beach      CA      268.5      68\n",
      "Incline Village   NV      259.0     118\n",
      "Brookline         NH      250.0       2\n",
      "Manhattan Beach   CA      209.0      55\n",
      "Hollywood         CA      205.0       8\n",
      "Charlotte         NC      200.0     225\n",
      "Sonoma            CA      200.0     115\n",
      "Napa              CA      200.0      68\n",
      "Long Beach        NY      200.0       3\n",
      "Austin            TX      199.0    2836\n",
      "La Jolla          CA      195.0      53\n",
      "Sausalito         CA      190.0      71\n",
      "Hermosa Beach     CA      189.5      48\n",
      "Sunny Isles Beach FL      180.0     161\n",
      "Carmel            IN      171.5      16\n",
      "New York          NY      170.0    8044\n",
      "Boston            MA      160.0     613\n",
      "Newport Beach     CA      160.0      84\n",
      "Beverly Hills     CA      160.0      74\n",
      "Venice            CA      155.0     242\n",
      "Davenport         CA      155.0       6\n",
      "San Francisco     CA      150.0    3622\n",
      "Miami Beach       FL      150.0    1345\n",
      "New Orleans       LA      150.0     833\n",
      "Miami             FL      150.0     641\n",
      "Santa Monica      CA      150.0     500\n",
      "Marina Del Rey    CA      150.0     115\n",
      "Louisville        KY      150.0      86\n",
      "Mill Valley       CA      150.0      80\n",
      "Taos              NM      148.5      52\n",
      "Sebastopol        CA      145.0      49\n",
      "Oakland           MD      145.0       1\n",
      "San Diego         CA      130.0     986\n",
      "Washington        DC      129.0    1402\n",
      "West Hollywood    CA      129.0     229\n",
      "Scottsdale        AZ      129.0     121\n",
      "Cambridge         MA      125.0     300\n",
      "Las Vegas         NV      125.0     291\n",
      "Santa Cruz        CA      125.0     127\n",
      "Charleston        SC      125.0      84\n",
      "San Rafael        CA      125.0      61\n",
      "Naples            FL      125.0      50\n",
      "Durham            CA      125.0       1\n",
      "Long Beach        NJ      125.0       1\n",
      "Anchorage         AK      123.5      50\n",
      "Palo Alto         CA      120.0     100\n",
      "Santa Rosa        CA      120.0      71\n",
      "Brookline         MA      120.0      47\n",
      "Hollywood         FL      115.5     150\n",
      "Davenport         FL      113.0     108\n",
      "Mountain View     CA      113.0      72\n",
      "Colorado Springs  CO      113.0      54\n",
      "Brooklyn          NY      110.0    4368\n",
      "Los Angeles       CA      110.0    3236\n",
      "Kissimmee         FL      110.0     266\n",
      "Savannah          GA      107.0      91\n",
      "Arlington         VA      106.5     214\n",
      "Paris             RI      105.5      48\n",
      "Honolulu          HI      105.0     363\n",
      "Alexandria        VA      104.5      66\n",
      "Chicago           IL      100.0    1255\n",
      "Seattle           WA      100.0     824\n",
      "Philadelphia      PA      100.0     457\n",
      "Berkeley          CA      100.0     328\n",
      "Boulder           CO      100.0     265\n",
      "Houston           TX      100.0     175\n",
      "Fort Lauderdale   FL      100.0     151\n",
      "Long Beach        CA      100.0     113\n",
      "San Jose          CA      100.0     104\n",
      "Somerville        MA      100.0      99\n",
      "Tampa             FL      100.0      78\n",
      "Carlsbad          CA      100.0      54\n",
      "Phoenix           MD      100.0       1\n",
      "Pasadena          CA       99.5      86\n",
      "Queens            NY       99.0     457\n",
      "Minneapolis       MN       98.0     138\n",
      "Ann Arbor         MI       98.0      63\n",
      "Long Island City  NY       96.0     191\n",
      "Richmond          IL       95.0       1\n",
      "Oakland           CA       90.0     434\n",
      "Tucson            AZ       90.0     195\n",
      "Glendale          CA       90.0      70\n",
      "Salt Lake City    UT       89.5     140\n",
      "Atlanta           GA       89.0     302\n",
      "Dallas            TX       87.0     114\n",
      "Denver            CO       86.0     283\n",
      "Phoenix           AZ       85.0     167\n",
      "Jersey City       NJ       85.0      82\n",
      "Eugene            OR       85.0      78\n",
      "Providence        RI       85.0      72\n",
      "Madison           WI       85.0      59\n",
      "Richmond          CA       82.5      24\n"
     ]
    }
   ],
   "source": [
    "# Taking a look at the results\n",
    "print(pivotDF.head(100).to_string())"
   ]
  },
  {
   "cell_type": "code",
   "execution_count": 30,
   "metadata": {
    "collapsed": false
   },
   "outputs": [],
   "source": [
    "# Looks good, lets get it ready for export.\n",
    "# Prompt wants just the top 100 highest median priced Trees - taking that slice of data and saving it as a DataFrame\n",
    "top100df = pivotDF[0:100]"
   ]
  },
  {
   "cell_type": "code",
   "execution_count": 31,
   "metadata": {
    "collapsed": true
   },
   "outputs": [],
   "source": [
    "# Writing this dataframe to a file for distribution.\n",
    "top100df.to_csv(\"TreeNB.csv\")"
   ]
  }
 ],
 "metadata": {
  "anaconda-cloud": {},
  "kernelspec": {
   "display_name": "Python [default]",
   "language": "python",
   "name": "python2"
  },
  "language_info": {
   "codemirror_mode": {
    "name": "ipython",
    "version": 2
   },
   "file_extension": ".py",
   "mimetype": "text/x-python",
   "name": "python",
   "nbconvert_exporter": "python",
   "pygments_lexer": "ipython2",
   "version": "2.7.12"
  }
 },
 "nbformat": 4,
 "nbformat_minor": 1
}
