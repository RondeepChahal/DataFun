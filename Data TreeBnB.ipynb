{
 "cells": [
  {
   "cell_type": "code",
   "execution_count": 1,
   "metadata": {
    "collapsed": true
   },
   "outputs": [],
   "source": [
    "# Using pandas and numpy\n",
    "import pandas as pd\n",
    "import numpy as np"
   ]
  },
  {
   "cell_type": "code",
   "execution_count": 2,
   "metadata": {
    "collapsed": false
   },
   "outputs": [],
   "source": [
    "# Grabbing the data from the Pricenomics csv\n",
    "df = pd.read_csv(\"Data+for+TreefortBnB+Puzzle.csv\")"
   ]
  },
  {
   "cell_type": "code",
   "execution_count": 3,
   "metadata": {
    "collapsed": false
   },
   "outputs": [],
   "source": [
    "# Correcting and standardizing capitalization for names of cities\n",
    "df.City = map(str.title, df.City)"
   ]
  },
  {
   "cell_type": "code",
   "execution_count": 4,
   "metadata": {
    "collapsed": false
   },
   "outputs": [
    {
     "data": {
      "text/html": [
       "<div>\n",
       "<table border=\"1\" class=\"dataframe\">\n",
       "  <thead>\n",
       "    <tr style=\"text-align: right;\">\n",
       "      <th></th>\n",
       "      <th>Unique id</th>\n",
       "      <th>City</th>\n",
       "      <th>State</th>\n",
       "      <th>$ Price</th>\n",
       "      <th># of Reviews</th>\n",
       "    </tr>\n",
       "  </thead>\n",
       "  <tbody>\n",
       "    <tr>\n",
       "      <th>0</th>\n",
       "      <td>1</td>\n",
       "      <td>Portland</td>\n",
       "      <td>OR</td>\n",
       "      <td>75</td>\n",
       "      <td>5</td>\n",
       "    </tr>\n",
       "    <tr>\n",
       "      <th>1</th>\n",
       "      <td>2</td>\n",
       "      <td>San Diego</td>\n",
       "      <td>CA</td>\n",
       "      <td>95</td>\n",
       "      <td>3</td>\n",
       "    </tr>\n",
       "    <tr>\n",
       "      <th>2</th>\n",
       "      <td>3</td>\n",
       "      <td>New York</td>\n",
       "      <td>NY</td>\n",
       "      <td>149</td>\n",
       "      <td>37</td>\n",
       "    </tr>\n",
       "    <tr>\n",
       "      <th>3</th>\n",
       "      <td>4</td>\n",
       "      <td>Los Angeles</td>\n",
       "      <td>CA</td>\n",
       "      <td>199</td>\n",
       "      <td>45</td>\n",
       "    </tr>\n",
       "    <tr>\n",
       "      <th>4</th>\n",
       "      <td>5</td>\n",
       "      <td>Denver</td>\n",
       "      <td>CO</td>\n",
       "      <td>56</td>\n",
       "      <td>99</td>\n",
       "    </tr>\n",
       "  </tbody>\n",
       "</table>\n",
       "</div>"
      ],
      "text/plain": [
       "   Unique id         City State  $ Price  # of Reviews\n",
       "0          1     Portland    OR       75             5\n",
       "1          2    San Diego    CA       95             3\n",
       "2          3     New York    NY      149            37\n",
       "3          4  Los Angeles    CA      199            45\n",
       "4          5       Denver    CO       56            99"
      ]
     },
     "execution_count": 4,
     "metadata": {},
     "output_type": "execute_result"
    }
   ],
   "source": [
    "# Taking a look at the data\n",
    "df.head()"
   ]
  },
  {
   "cell_type": "code",
   "execution_count": 5,
   "metadata": {
    "collapsed": false
   },
   "outputs": [],
   "source": [
    "# Pivot to set row index as \"City\" and \"State\" pairs, so that cities in different states\n",
    "# don't get confused for being the same thing.\n",
    "\n",
    "# Also, aggregating price for each \"City\" and \"State\" pair by median and count (frequency of City & State pair in data)\n",
    "pivotDF = pd.pivot_table(df, index=[\"City\",\"State\"],values=['$ Price'],aggfunc=[np.median,(lambda arr: arr.count())])"
   ]
  },
  {
   "cell_type": "code",
   "execution_count": 6,
   "metadata": {
    "collapsed": false
   },
   "outputs": [
    {
     "data": {
      "text/html": [
       "<div>\n",
       "<table border=\"1\" class=\"dataframe\">\n",
       "  <thead>\n",
       "    <tr>\n",
       "      <th></th>\n",
       "      <th></th>\n",
       "      <th>median</th>\n",
       "      <th>&lt;lambda&gt;</th>\n",
       "    </tr>\n",
       "    <tr>\n",
       "      <th></th>\n",
       "      <th></th>\n",
       "      <th>$ Price</th>\n",
       "      <th>$ Price</th>\n",
       "    </tr>\n",
       "    <tr>\n",
       "      <th>City</th>\n",
       "      <th>State</th>\n",
       "      <th></th>\n",
       "      <th></th>\n",
       "    </tr>\n",
       "  </thead>\n",
       "  <tbody>\n",
       "    <tr>\n",
       "      <th>Albuquerque</th>\n",
       "      <th>NM</th>\n",
       "      <td>75.0</td>\n",
       "      <td>95</td>\n",
       "    </tr>\n",
       "    <tr>\n",
       "      <th>Alexandria</th>\n",
       "      <th>VA</th>\n",
       "      <td>104.5</td>\n",
       "      <td>66</td>\n",
       "    </tr>\n",
       "    <tr>\n",
       "      <th>Anchorage</th>\n",
       "      <th>AK</th>\n",
       "      <td>123.5</td>\n",
       "      <td>50</td>\n",
       "    </tr>\n",
       "    <tr>\n",
       "      <th>Ann Arbor</th>\n",
       "      <th>MI</th>\n",
       "      <td>98.0</td>\n",
       "      <td>63</td>\n",
       "    </tr>\n",
       "    <tr>\n",
       "      <th>Arlington</th>\n",
       "      <th>VA</th>\n",
       "      <td>106.5</td>\n",
       "      <td>214</td>\n",
       "    </tr>\n",
       "  </tbody>\n",
       "</table>\n",
       "</div>"
      ],
      "text/plain": [
       "                   median <lambda>\n",
       "                  $ Price  $ Price\n",
       "City        State                 \n",
       "Albuquerque NM       75.0       95\n",
       "Alexandria  VA      104.5       66\n",
       "Anchorage   AK      123.5       50\n",
       "Ann Arbor   MI       98.0       63\n",
       "Arlington   VA      106.5      214"
      ]
     },
     "execution_count": 6,
     "metadata": {},
     "output_type": "execute_result"
    }
   ],
   "source": [
    "# Checking out the data, looks good, though column named <labmda> could be more descriptive\n",
    "pivotDF.head()"
   ]
  },
  {
   "cell_type": "code",
   "execution_count": 7,
   "metadata": {
    "collapsed": false
   },
   "outputs": [],
   "source": [
    "# Renamed '<lambdad>' as 'Listings' and median as MedianPrice\n",
    "pivotDF.rename(columns={'<lambda>':'Listings', 'median': 'MedianPrice'},inplace=True)"
   ]
  },
  {
   "cell_type": "code",
   "execution_count": 8,
   "metadata": {
    "collapsed": false
   },
   "outputs": [
    {
     "data": {
      "text/plain": [
       "MultiIndex(levels=[[u'Listings', u'MedianPrice'], [u'$ Price']],\n",
       "           labels=[[1, 0], [0, 0]])"
      ]
     },
     "execution_count": 8,
     "metadata": {},
     "output_type": "execute_result"
    }
   ],
   "source": [
    "# Looking at the column data to figure out how to issue commands to sort by median\n",
    "pivotDF.columns"
   ]
  },
  {
   "cell_type": "code",
   "execution_count": 9,
   "metadata": {
    "collapsed": false
   },
   "outputs": [],
   "source": [
    "# That looks like its unneccesarily two levels, lets flatten it out\n",
    "pivotDF.columns =  pivotDF.columns.get_level_values(0)"
   ]
  },
  {
   "cell_type": "code",
   "execution_count": 10,
   "metadata": {
    "collapsed": false
   },
   "outputs": [
    {
     "data": {
      "text/html": [
       "<div>\n",
       "<table border=\"1\" class=\"dataframe\">\n",
       "  <thead>\n",
       "    <tr style=\"text-align: right;\">\n",
       "      <th></th>\n",
       "      <th></th>\n",
       "      <th>MedianPrice</th>\n",
       "      <th>Listings</th>\n",
       "    </tr>\n",
       "    <tr>\n",
       "      <th>City</th>\n",
       "      <th>State</th>\n",
       "      <th></th>\n",
       "      <th></th>\n",
       "    </tr>\n",
       "  </thead>\n",
       "  <tbody>\n",
       "    <tr>\n",
       "      <th>Albuquerque</th>\n",
       "      <th>NM</th>\n",
       "      <td>75.0</td>\n",
       "      <td>95</td>\n",
       "    </tr>\n",
       "    <tr>\n",
       "      <th>Alexandria</th>\n",
       "      <th>VA</th>\n",
       "      <td>104.5</td>\n",
       "      <td>66</td>\n",
       "    </tr>\n",
       "    <tr>\n",
       "      <th>Anchorage</th>\n",
       "      <th>AK</th>\n",
       "      <td>123.5</td>\n",
       "      <td>50</td>\n",
       "    </tr>\n",
       "    <tr>\n",
       "      <th>Ann Arbor</th>\n",
       "      <th>MI</th>\n",
       "      <td>98.0</td>\n",
       "      <td>63</td>\n",
       "    </tr>\n",
       "    <tr>\n",
       "      <th>Arlington</th>\n",
       "      <th>VA</th>\n",
       "      <td>106.5</td>\n",
       "      <td>214</td>\n",
       "    </tr>\n",
       "  </tbody>\n",
       "</table>\n",
       "</div>"
      ],
      "text/plain": [
       "                   MedianPrice  Listings\n",
       "City        State                       \n",
       "Albuquerque NM            75.0        95\n",
       "Alexandria  VA           104.5        66\n",
       "Anchorage   AK           123.5        50\n",
       "Ann Arbor   MI            98.0        63\n",
       "Arlington   VA           106.5       214"
      ]
     },
     "execution_count": 10,
     "metadata": {},
     "output_type": "execute_result"
    }
   ],
   "source": [
    "pivotDF.head()"
   ]
  },
  {
   "cell_type": "code",
   "execution_count": 11,
   "metadata": {
    "collapsed": false
   },
   "outputs": [],
   "source": [
    "# Sorting by median, and then sorting within that sort by frequency of the city state pair in the data set\n",
    "pivotDF.sort_values([\"MedianPrice\", \"Listings\"],ascending=False, inplace=True)"
   ]
  },
  {
   "cell_type": "code",
   "execution_count": 12,
   "metadata": {
    "collapsed": false
   },
   "outputs": [
    {
     "name": "stdout",
     "output_type": "stream",
     "text": [
      "                         MedianPrice  Listings\n",
      "City              State                       \n",
      "Indianapolis      IN           650.0       251\n",
      "Madison           CT           450.0         1\n",
      "Paris             TX           439.0         1\n",
      "Carmel            CA           350.0        31\n",
      "Malibu            CA           304.0        92\n",
      "Park City         UT           299.0       229\n",
      "Truckee           NV           275.0        67\n",
      "Healdsburg        CA           275.0        49\n",
      "Laguna Beach      CA           268.5        68\n",
      "Incline Village   NV           259.0       118\n",
      "Brookline         NH           250.0         2\n",
      "Manhattan Beach   CA           209.0        55\n",
      "Hollywood         CA           205.0         8\n",
      "Charlotte         NC           200.0       225\n",
      "Sonoma            CA           200.0       115\n",
      "Napa              CA           200.0        68\n",
      "Long Beach        NY           200.0         3\n",
      "Austin            TX           199.0      2836\n",
      "La Jolla          CA           195.0        53\n",
      "Sausalito         CA           190.0        71\n",
      "Hermosa Beach     CA           189.5        48\n",
      "Sunny Isles Beach FL           180.0       161\n",
      "Carmel            IN           171.5        16\n",
      "New York          NY           170.0      8044\n",
      "Boston            MA           160.0       613\n",
      "Newport Beach     CA           160.0        84\n",
      "Beverly Hills     CA           160.0        74\n",
      "Venice            CA           155.0       242\n",
      "Davenport         CA           155.0         6\n",
      "San Francisco     CA           150.0      3622\n",
      "Miami Beach       FL           150.0      1345\n",
      "New Orleans       LA           150.0       833\n",
      "Miami             FL           150.0       641\n",
      "Santa Monica      CA           150.0       500\n",
      "Marina Del Rey    CA           150.0       115\n",
      "Louisville        KY           150.0        86\n",
      "Mill Valley       CA           150.0        80\n",
      "Taos              NM           148.5        52\n",
      "Sebastopol        CA           145.0        49\n",
      "Oakland           MD           145.0         1\n",
      "San Diego         CA           130.0       986\n",
      "Washington        DC           129.0      1402\n",
      "West Hollywood    CA           129.0       229\n",
      "Scottsdale        AZ           129.0       121\n",
      "Cambridge         MA           125.0       300\n",
      "Las Vegas         NV           125.0       291\n",
      "Santa Cruz        CA           125.0       127\n",
      "Charleston        SC           125.0        84\n",
      "San Rafael        CA           125.0        61\n",
      "Naples            FL           125.0        50\n",
      "Durham            CA           125.0         1\n",
      "Long Beach        NJ           125.0         1\n",
      "Anchorage         AK           123.5        50\n",
      "Palo Alto         CA           120.0       100\n",
      "Santa Rosa        CA           120.0        71\n",
      "Brookline         MA           120.0        47\n",
      "Hollywood         FL           115.5       150\n",
      "Davenport         FL           113.0       108\n",
      "Mountain View     CA           113.0        72\n",
      "Colorado Springs  CO           113.0        54\n",
      "Brooklyn          NY           110.0      4368\n",
      "Los Angeles       CA           110.0      3236\n",
      "Kissimmee         FL           110.0       266\n",
      "Savannah          GA           107.0        91\n",
      "Arlington         VA           106.5       214\n",
      "Paris             RI           105.5        48\n",
      "Honolulu          HI           105.0       363\n",
      "Alexandria        VA           104.5        66\n",
      "Chicago           IL           100.0      1255\n",
      "Seattle           WA           100.0       824\n",
      "Philadelphia      PA           100.0       457\n",
      "Berkeley          CA           100.0       328\n",
      "Boulder           CO           100.0       265\n",
      "Houston           TX           100.0       175\n",
      "Fort Lauderdale   FL           100.0       151\n",
      "Long Beach        CA           100.0       113\n",
      "San Jose          CA           100.0       104\n",
      "Somerville        MA           100.0        99\n",
      "Tampa             FL           100.0        78\n",
      "Carlsbad          CA           100.0        54\n",
      "Phoenix           MD           100.0         1\n",
      "Pasadena          CA            99.5        86\n",
      "Queens            NY            99.0       457\n",
      "Minneapolis       MN            98.0       138\n",
      "Ann Arbor         MI            98.0        63\n",
      "Long Island City  NY            96.0       191\n",
      "Richmond          IL            95.0         1\n",
      "Oakland           CA            90.0       434\n",
      "Tucson            AZ            90.0       195\n",
      "Glendale          CA            90.0        70\n",
      "Salt Lake City    UT            89.5       140\n",
      "Atlanta           GA            89.0       302\n",
      "Dallas            TX            87.0       114\n",
      "Denver            CO            86.0       283\n",
      "Phoenix           AZ            85.0       167\n",
      "Jersey City       NJ            85.0        82\n",
      "Eugene            OR            85.0        78\n",
      "Providence        RI            85.0        72\n",
      "Madison           WI            85.0        59\n",
      "Richmond          CA            82.5        24\n"
     ]
    }
   ],
   "source": [
    "# Taking a look at the results\n",
    "print(pivotDF.head(100).to_string())"
   ]
  },
  {
   "cell_type": "code",
   "execution_count": 13,
   "metadata": {
    "collapsed": true
   },
   "outputs": [],
   "source": [
    "# Prompt wants just the top 100 highest median priced Trees - taking that slice of data and saving it as a DataFrame\n",
    "top100df = pivotDF[0:100]"
   ]
  },
  {
   "cell_type": "code",
   "execution_count": 14,
   "metadata": {
    "collapsed": true
   },
   "outputs": [],
   "source": [
    "# Writing this dataframe to a file for distribution.\n",
    "top100df.to_csv(\"TreeNB.csv\")"
   ]
  },
  {
   "cell_type": "code",
   "execution_count": 15,
   "metadata": {
    "collapsed": false
   },
   "outputs": [],
   "source": [
    "# Looks good, but is a little boring, since this is just reflecting the owners choice of price.\n",
    "# Lets use '# of reviews' multiplied by \"median price\" as a proxy for best markets to actually rent a treefort?\n",
    "reviewsDF = pd.pivot_table(df, index=[\"City\",\"State\"],values=['# of Reviews'],aggfunc=sum)"
   ]
  },
  {
   "cell_type": "code",
   "execution_count": 16,
   "metadata": {
    "collapsed": true
   },
   "outputs": [],
   "source": [
    "# For convenience, lets make a list of the data tables we are working with\n",
    "frames = [pivotDF, reviewsDF]"
   ]
  },
  {
   "cell_type": "code",
   "execution_count": 17,
   "metadata": {
    "collapsed": false
   },
   "outputs": [],
   "source": [
    "# Now lets join the tables together\n",
    "finalDF = pd.concat(frames, axis=1)"
   ]
  },
  {
   "cell_type": "code",
   "execution_count": 18,
   "metadata": {
    "collapsed": false
   },
   "outputs": [],
   "source": [
    "# And lets also create that proxy by multiplying \"# of reviews\" by \"MedianPrice\"\n",
    "finalDF[\"MinRevenue\"] = finalDF['MedianPrice'] * finalDF['# of Reviews']"
   ]
  },
  {
   "cell_type": "code",
   "execution_count": 19,
   "metadata": {
    "collapsed": false
   },
   "outputs": [],
   "source": [
    "# Now lets sort by revenue, and then sorting within that sort by median\n",
    "finalDF.sort_values([\"MinRevenue\",\"MedianPrice\"],ascending=False, inplace=True)"
   ]
  },
  {
   "cell_type": "code",
   "execution_count": 20,
   "metadata": {
    "collapsed": false
   },
   "outputs": [],
   "source": [
    "# I am also kind of curious about the average number of reviews per listing.\n",
    "# Should give us a sense of the amount of occupancy / turnover of units per geography.\n",
    "finalDF[\"ReviewsPerListing\"] = finalDF['# of Reviews'] / finalDF['Listings']"
   ]
  },
  {
   "cell_type": "code",
   "execution_count": 21,
   "metadata": {
    "collapsed": false
   },
   "outputs": [
    {
     "name": "stdout",
     "output_type": "stream",
     "text": [
      "                         MedianPrice  Listings  # of Reviews  MinRevenue  ReviewsPerListing\n",
      "City              State                                                                    \n",
      "New York          NY           170.0      8044         64177  10910090.0           7.978245\n",
      "San Francisco     CA           150.0      3622         30842   4626300.0           8.515185\n",
      "Brooklyn          NY           110.0      4368         33154   3646940.0           7.590201\n",
      "Los Angeles       CA           110.0      3236         21723   2389530.0           6.712917\n",
      "Austin            TX           199.0      2836         10575   2104425.0           3.728843\n",
      "Washington        DC           129.0      1402          9163   1182027.0           6.535663\n",
      "Chicago           IL           100.0      1255         11248   1124800.0           8.962550\n",
      "Miami Beach       FL           150.0      1345          7126   1068900.0           5.298141\n",
      "Seattle           WA           100.0       824          9772    977200.0          11.859223\n",
      "New Orleans       LA           150.0       833          5851    877650.0           7.024010\n",
      "Boston            MA           160.0       613          5281    844960.0           8.615008\n",
      "Portland          OR            79.0       819          9384    741336.0          11.457875\n",
      "San Diego         CA           130.0       986          5649    734370.0           5.729209\n",
      "Philadelphia      PA           100.0       457          4882    488200.0          10.682713\n",
      "Miami             FL           150.0       641          2774    416100.0           4.327613\n",
      "Santa Monica      CA           150.0       500          2501    375150.0           5.002000\n",
      "Queens            NY            99.0       457          3594    355806.0           7.864333\n",
      "Cambridge         MA           125.0       300          2684    335500.0           8.946667\n",
      "Indianapolis      IN           650.0       251           459    298350.0           1.828685\n",
      "Honolulu          HI           105.0       363          2752    288960.0           7.581267\n",
      "Oakland           CA            90.0       434          2711    243990.0           6.246544\n",
      "Denver            CO            86.0       283          2822    242692.0           9.971731\n",
      "Venice            CA           155.0       242          1488    230640.0           6.148760\n",
      "Sonoma            CA           200.0       115          1141    228200.0           9.921739\n",
      "Berkeley          CA           100.0       328          2161    216100.0           6.588415\n",
      "Nashville         TN            80.0       185          2590    207200.0          14.000000\n",
      "Las Vegas         NV           125.0       291          1562    195250.0           5.367698\n",
      "Santa Cruz        CA           125.0       127          1499    187375.0          11.803150\n",
      "Atlanta           GA            89.0       302          2098    186722.0           6.947020\n",
      "West Hollywood    CA           129.0       229          1355    174795.0           5.917031\n",
      "Savannah          GA           107.0        91          1575    168525.0          17.307692\n",
      "Boulder           CO           100.0       265          1614    161400.0           6.090566\n",
      "Somerville        MA           100.0        99          1496    149600.0          15.111111\n",
      "Park City         UT           299.0       229           481    143819.0           2.100437\n",
      "Charlotte         NC           200.0       225           657    131400.0           2.920000\n",
      "Arlington         VA           106.5       214          1233    131314.5           5.761682\n",
      "Carmel            CA           350.0        31           359    125650.0          11.580645\n",
      "Charleston        SC           125.0        84           962    120250.0          11.452381\n",
      "Santa Rosa        CA           120.0        71           976    117120.0          13.746479\n",
      "Malibu            CA           304.0        92           339    103056.0           3.684783\n",
      "Kissimmee         FL           110.0       266           869     95590.0           3.266917\n",
      "Truckee           NV           275.0        67           325     89375.0           4.850746\n",
      "Jersey City       NJ            85.0        82          1025     87125.0          12.500000\n",
      "Tucson            AZ            90.0       195           955     85950.0           4.897436\n",
      "Minneapolis       MN            98.0       138           876     85848.0           6.347826\n",
      "Baltimore         MD            80.0       137          1068     85440.0           7.795620\n",
      "Sunny Isles Beach FL           180.0       161           463     83340.0           2.875776\n",
      "Houston           TX           100.0       175           817     81700.0           4.668571\n",
      "Napa              CA           200.0        68           406     81200.0           5.970588\n",
      "Bronx             NY            75.0       113          1081     81075.0           9.566372\n",
      "Sausalito         CA           190.0        71           423     80370.0           5.957746\n",
      "Louisville        KY           150.0        86           529     79350.0           6.151163\n",
      "Long Island City  NY            96.0       191           821     78816.0           4.298429\n",
      "Fort Lauderdale   FL           100.0       151           781     78100.0           5.172185\n",
      "Pittsburgh        PA            80.0        99           960     76800.0           9.696970\n",
      "Marina Del Rey    CA           150.0       115           492     73800.0           4.278261\n",
      "Phoenix           AZ            85.0       167           842     71570.0           5.041916\n",
      "Sebastopol        CA           145.0        49           443     64235.0           9.040816\n",
      "Salt Lake City    UT            89.5       140           716     64082.0           5.114286\n",
      "Long Beach        CA           100.0       113           637     63700.0           5.637168\n",
      "Palo Alto         CA           120.0       100           527     63240.0           5.270000\n",
      "Dallas            TX            87.0       114           696     60552.0           6.105263\n",
      "Beverly Hills     CA           160.0        74           378     60480.0           5.108108\n",
      "Alexandria        VA           104.5        66           563     58833.5           8.530303\n",
      "Mill Valley       CA           150.0        80           390     58500.0           4.875000\n",
      "San Jose          CA           100.0       104           584     58400.0           5.615385\n",
      "Orlando           FL            75.0       116           766     57450.0           6.603448\n",
      "Albuquerque       NM            75.0        95           724     54300.0           7.621053\n",
      "Providence        RI            85.0        72           625     53125.0           8.680556\n",
      "Newport Beach     CA           160.0        84           322     51520.0           3.833333\n",
      "Eugene            OR            85.0        78           601     51085.0           7.705128\n",
      "San Antonio       TX            80.0        77           609     48720.0           7.909091\n",
      "Hollywood         FL           115.5       150           408     47124.0           2.720000\n",
      "Mountain View     CA           113.0        72           414     46782.0           5.750000\n",
      "Laguna Beach      CA           268.5        68           173     46450.5           2.544118\n",
      "Incline Village   NV           259.0       118           163     42217.0           1.381356\n",
      "San Rafael        CA           125.0        61           316     39500.0           5.180328\n",
      "Scottsdale        AZ           129.0       121           297     38313.0           2.454545\n",
      "Silver Spring     MD            75.0        53           505     37875.0           9.528302\n",
      "Brookline         MA           120.0        47           314     37680.0           6.680851\n",
      "Madison           WI            85.0        59           442     37570.0           7.491525\n",
      "Taos              NM           148.5        52           247     36679.5           4.750000\n",
      "Davenport         FL           113.0       108           312     35256.0           2.888889\n",
      "Ann Arbor         MI            98.0        63           359     35182.0           5.698413\n",
      "Tampa             FL           100.0        78           335     33500.0           4.294872\n",
      "Hollywood         CA           205.0         8           162     33210.0          20.250000\n",
      "Pasadena          CA            99.5        86           287     28556.5           3.337209\n",
      "Healdsburg        CA           275.0        49           102     28050.0           2.081633\n",
      "Richmond          VA            75.0        39           370     27750.0           9.487179\n",
      "Hermosa Beach     CA           189.5        48           135     25582.5           2.812500\n",
      "Durham            NC            60.0        63           378     22680.0           6.000000\n",
      "New Haven         CT            75.0        52           292     21900.0           5.615385\n",
      "Sacramento        CA            65.0        57           324     21060.0           5.684211\n",
      "La Jolla          CA           195.0        53           104     20280.0           1.962264\n",
      "Paris             RI           105.5        48           180     18990.0           3.750000\n",
      "Cincinnati        OH            70.0        47           260     18200.0           5.531915\n",
      "Raleigh           NC            60.0        57           252     15120.0           4.421053\n",
      "Anchorage         AK           123.5        50           114     14079.0           2.280000\n",
      "Manhattan Beach   CA           209.0        55            67     14003.0           1.218182\n",
      "Glendale          CA            90.0        70           154     13860.0           2.200000\n"
     ]
    }
   ],
   "source": [
    "print(finalDF.head(100).to_string())"
   ]
  },
  {
   "cell_type": "code",
   "execution_count": 22,
   "metadata": {
    "collapsed": false
   },
   "outputs": [],
   "source": [
    "# Interesting stuff. A few outliers, like Indianapolis with $650 median now seem to have a tradeoff with turnover.\n",
    "# Is there any geographic clustering here? Lets see with a visualization.\n",
    "# First, lets get the lat and long coordinates of these cities.\n",
    "# We'll use the geocoder module to pull latitude and longitude for each of the cities to then plot.\n",
    "import geocoder"
   ]
  },
  {
   "cell_type": "code",
   "execution_count": 23,
   "metadata": {
    "collapsed": false
   },
   "outputs": [],
   "source": [
    "# Grabs the list of city and state pairs in our finalDF\n",
    "LocationList = list(finalDF.index.values)"
   ]
  },
  {
   "cell_type": "code",
   "execution_count": 24,
   "metadata": {
    "collapsed": true
   },
   "outputs": [],
   "source": [
    "# Lets write a function to loop through each city state pair and get its latitude and longitude\n",
    "latlngList = []\n",
    "\n",
    "def locExtractor(array):\n",
    "    for i in array:\n",
    "        g = geocoder.google(i)\n",
    "        latlngList.append(g.latlng)"
   ]
  },
  {
   "cell_type": "code",
   "execution_count": 25,
   "metadata": {
    "collapsed": true
   },
   "outputs": [],
   "source": [
    "# Lets get those coordinates\n",
    "locExtractor(LocationList)"
   ]
  },
  {
   "cell_type": "code",
   "execution_count": 26,
   "metadata": {
    "collapsed": false
   },
   "outputs": [
    {
     "data": {
      "text/plain": [
       "[[40.7127837, -74.0059413],\n",
       " [37.7749295, -122.4194155],\n",
       " [40.6781784, -73.9441579],\n",
       " [34.0522342, -118.2436849],\n",
       " [30.267153, -97.7430608],\n",
       " [47.7510741, -120.7401386],\n",
       " [41.8781136, -87.6297982],\n",
       " [25.790654, -80.1300455],\n",
       " [47.6062095, -122.3320708],\n",
       " [29.95106579999999, -90.0715323],\n",
       " [42.3600825, -71.0588801],\n",
       " [45.5230622, -122.6764816],\n",
       " [32.715738, -117.1610838],\n",
       " [39.9525839, -75.1652215],\n",
       " [25.7616798, -80.1917902],\n",
       " [34.0194543, -118.4911912],\n",
       " [40.7282239, -73.7948516],\n",
       " [52.205337, 0.121817],\n",
       " [39.768403, -86.158068],\n",
       " [21.3069444, -157.8583333],\n",
       " [37.8043637, -122.2711137],\n",
       " [39.7392358, -104.990251],\n",
       " [45.4408474, 12.3155151],\n",
       " [38.291859, -122.4580356],\n",
       " [37.8718992, -122.2585399],\n",
       " [36.1626638, -86.7816016],\n",
       " [36.1699412, -115.1398296],\n",
       " [36.9741171, -122.0307963],\n",
       " [33.7489954, -84.3879824],\n",
       " [34.0900091, -118.3617443],\n",
       " [32.0835407, -81.09983419999999],\n",
       " [40.0149856, -105.2705456],\n",
       " [42.3875968, -71.0994968],\n",
       " [40.6460622, -111.4979729],\n",
       " [35.2270869, -80.8431267],\n",
       " [32.735687, -97.10806559999999],\n",
       " [36.5552386, -121.9232879],\n",
       " [32.7764749, -79.93105120000001],\n",
       " [38.440429, -122.7140548],\n",
       " [34.0259216, -118.7797571],\n",
       " [28.2919557, -81.40757099999999],\n",
       " [39.327962, -120.1832533],\n",
       " [40.72815749999999, -74.0776417],\n",
       " [32.2217429, -110.926479],\n",
       " [44.977753, -93.2650108],\n",
       " [39.2903848, -76.6121893],\n",
       " [25.9428707, -80.1233802],\n",
       " [29.7604267, -95.3698028],\n",
       " [32.7693874, -96.6457738],\n",
       " [40.8447819, -73.8648268],\n",
       " [37.8590937, -122.4852507],\n",
       " [38.2526647, -85.7584557],\n",
       " [40.744679, -73.9485424],\n",
       " [26.1224386, -80.13731740000001],\n",
       " [40.44062479999999, -79.9958864],\n",
       " [33.9802893, -118.4517449],\n",
       " [33.4483771, -112.0740373],\n",
       " [38.4021359, -122.8238806],\n",
       " [40.7607793, -111.8910474],\n",
       " [33.7700504, -118.1937395],\n",
       " [37.4418834, -122.1430195],\n",
       " [32.7766642, -96.79698789999999],\n",
       " [34.0736204, -118.4003563],\n",
       " [31.2000924, 29.9187387],\n",
       " [37.9060368, -122.5449763],\n",
       " [37.3382082, -121.8863286],\n",
       " [28.5383355, -81.3792365],\n",
       " [35.0853336, -106.6055534],\n",
       " [41.8239891, -71.4128343],\n",
       " [33.6189101, -117.9289469],\n",
       " [44.0520691, -123.0867536],\n",
       " [29.4241219, -98.49362819999999],\n",
       " [34.0928092, -118.3286614],\n",
       " [37.3860517, -122.0838511],\n",
       " [33.5422475, -117.7831104],\n",
       " [39.249683, -119.9526847],\n",
       " [37.9735346, -122.5310874],\n",
       " [33.4941704, -111.9260519],\n",
       " [38.99066570000001, -77.026088],\n",
       " [42.33176419999999, -71.1211635],\n",
       " [43.0730517, -89.4012302],\n",
       " [36.4072485, -105.5730665],\n",
       " [41.5236437, -90.5776367],\n",
       " [42.2808256, -83.7430378],\n",
       " [27.950575, -82.4571776],\n",
       " [34.0928092, -118.3286614],\n",
       " [34.1477849, -118.1445155],\n",
       " [38.6104658, -122.8691609],\n",
       " [37.5407246, -77.4360481],\n",
       " [33.8622366, -118.3995194],\n",
       " [35.9940329, -78.898619],\n",
       " [41.308274, -72.9278835],\n",
       " [38.5815719, -121.4943996],\n",
       " [32.8328112, -117.2712717],\n",
       " [48.856614, 2.3522219],\n",
       " [39.1031182, -84.5120196],\n",
       " [35.7795897, -78.6381787],\n",
       " [61.2180556, -149.9002778],\n",
       " [33.8847361, -118.4109089],\n",
       " [34.1425078, -118.255075],\n",
       " [38.8338816, -104.8213634],\n",
       " [37.5407246, -77.4360481],\n",
       " [26.1420358, -81.7948103],\n",
       " [33.1580933, -117.3505939],\n",
       " [41.5236437, -90.5776367],\n",
       " [38.2526647, -85.7584557],\n",
       " [33.7700504, -118.1937395],\n",
       " [34.0928092, -118.3286614],\n",
       " [37.8043637, -122.2711137],\n",
       " [43.0730517, -89.4012302],\n",
       " [41.5236437, -90.5776367],\n",
       " [37.5407246, -77.4360481],\n",
       " [35.9940329, -78.898619],\n",
       " [36.5552386, -121.9232879],\n",
       " [37.5407246, -77.4360481],\n",
       " [43.0730517, -89.4012302],\n",
       " [48.856614, 2.3522219],\n",
       " [42.33176419999999, -71.1211635],\n",
       " [33.7700504, -118.1937395],\n",
       " [33.4483771, -112.0740373],\n",
       " [37.5407246, -77.4360481],\n",
       " [37.8718992, -122.2585399],\n",
       " [32.7766642, -96.79698789999999],\n",
       " [34.1477849, -118.1445155]]"
      ]
     },
     "execution_count": 26,
     "metadata": {},
     "output_type": "execute_result"
    }
   ],
   "source": [
    "latlngList"
   ]
  },
  {
   "cell_type": "code",
   "execution_count": 27,
   "metadata": {
    "collapsed": false
   },
   "outputs": [],
   "source": [
    "# The plotting function we work with requires the coordinates seperated into longitude and latitude, so lets write\n",
    "# a loop to seperate them into their own lists\n",
    "latList = []\n",
    "lngList = []\n",
    "\n",
    "try:\n",
    "    for lat, lng in latlngList:\n",
    "        latList.append(lat)\n",
    "        lngList.append(lng)\n",
    "except:\n",
    "    pass"
   ]
  },
  {
   "cell_type": "code",
   "execution_count": 28,
   "metadata": {
    "collapsed": false
   },
   "outputs": [],
   "source": [
    "# lets add the coordinates to the dataframe, so that they are matched up with their city & state pairs, even if data\n",
    "# gets sorted or jumbled (or in this example, eventually turned into a dictionary, where row order gets tossed around)\n",
    "finalDF['Latitude'] = pd.Series(latList, index=finalDF.index.values)"
   ]
  },
  {
   "cell_type": "code",
   "execution_count": 29,
   "metadata": {
    "collapsed": true
   },
   "outputs": [],
   "source": [
    "finalDF['Longitude'] = pd.Series(lngList, index=finalDF.index.values)"
   ]
  },
  {
   "cell_type": "code",
   "execution_count": 30,
   "metadata": {
    "collapsed": false
   },
   "outputs": [
    {
     "data": {
      "text/html": [
       "<div>\n",
       "<table border=\"1\" class=\"dataframe\">\n",
       "  <thead>\n",
       "    <tr style=\"text-align: right;\">\n",
       "      <th></th>\n",
       "      <th></th>\n",
       "      <th>MedianPrice</th>\n",
       "      <th>Listings</th>\n",
       "      <th># of Reviews</th>\n",
       "      <th>MinRevenue</th>\n",
       "      <th>ReviewsPerListing</th>\n",
       "      <th>Latitude</th>\n",
       "      <th>Longitude</th>\n",
       "    </tr>\n",
       "    <tr>\n",
       "      <th>City</th>\n",
       "      <th>State</th>\n",
       "      <th></th>\n",
       "      <th></th>\n",
       "      <th></th>\n",
       "      <th></th>\n",
       "      <th></th>\n",
       "      <th></th>\n",
       "      <th></th>\n",
       "    </tr>\n",
       "  </thead>\n",
       "  <tbody>\n",
       "    <tr>\n",
       "      <th>New York</th>\n",
       "      <th>NY</th>\n",
       "      <td>170.0</td>\n",
       "      <td>8044</td>\n",
       "      <td>64177</td>\n",
       "      <td>10910090.0</td>\n",
       "      <td>7.978245</td>\n",
       "      <td>40.712784</td>\n",
       "      <td>-74.005941</td>\n",
       "    </tr>\n",
       "    <tr>\n",
       "      <th>San Francisco</th>\n",
       "      <th>CA</th>\n",
       "      <td>150.0</td>\n",
       "      <td>3622</td>\n",
       "      <td>30842</td>\n",
       "      <td>4626300.0</td>\n",
       "      <td>8.515185</td>\n",
       "      <td>37.774929</td>\n",
       "      <td>-122.419415</td>\n",
       "    </tr>\n",
       "    <tr>\n",
       "      <th>Brooklyn</th>\n",
       "      <th>NY</th>\n",
       "      <td>110.0</td>\n",
       "      <td>4368</td>\n",
       "      <td>33154</td>\n",
       "      <td>3646940.0</td>\n",
       "      <td>7.590201</td>\n",
       "      <td>40.678178</td>\n",
       "      <td>-73.944158</td>\n",
       "    </tr>\n",
       "    <tr>\n",
       "      <th>Los Angeles</th>\n",
       "      <th>CA</th>\n",
       "      <td>110.0</td>\n",
       "      <td>3236</td>\n",
       "      <td>21723</td>\n",
       "      <td>2389530.0</td>\n",
       "      <td>6.712917</td>\n",
       "      <td>34.052234</td>\n",
       "      <td>-118.243685</td>\n",
       "    </tr>\n",
       "    <tr>\n",
       "      <th>Austin</th>\n",
       "      <th>TX</th>\n",
       "      <td>199.0</td>\n",
       "      <td>2836</td>\n",
       "      <td>10575</td>\n",
       "      <td>2104425.0</td>\n",
       "      <td>3.728843</td>\n",
       "      <td>30.267153</td>\n",
       "      <td>-97.743061</td>\n",
       "    </tr>\n",
       "  </tbody>\n",
       "</table>\n",
       "</div>"
      ],
      "text/plain": [
       "                     MedianPrice  Listings  # of Reviews  MinRevenue  \\\n",
       "City          State                                                    \n",
       "New York      NY           170.0      8044         64177  10910090.0   \n",
       "San Francisco CA           150.0      3622         30842   4626300.0   \n",
       "Brooklyn      NY           110.0      4368         33154   3646940.0   \n",
       "Los Angeles   CA           110.0      3236         21723   2389530.0   \n",
       "Austin        TX           199.0      2836         10575   2104425.0   \n",
       "\n",
       "                     ReviewsPerListing   Latitude   Longitude  \n",
       "City          State                                            \n",
       "New York      NY              7.978245  40.712784  -74.005941  \n",
       "San Francisco CA              8.515185  37.774929 -122.419415  \n",
       "Brooklyn      NY              7.590201  40.678178  -73.944158  \n",
       "Los Angeles   CA              6.712917  34.052234 -118.243685  \n",
       "Austin        TX              3.728843  30.267153  -97.743061  "
      ]
     },
     "execution_count": 30,
     "metadata": {},
     "output_type": "execute_result"
    }
   ],
   "source": [
    "# Lets take a look\n",
    "finalDF.head()"
   ]
  },
  {
   "cell_type": "code",
   "execution_count": 31,
   "metadata": {
    "collapsed": false
   },
   "outputs": [],
   "source": [
    "# now lets transform the dataframe into dictionaries to create index and column value pairs\n",
    "dicts = finalDF.to_dict()"
   ]
  },
  {
   "cell_type": "code",
   "execution_count": 32,
   "metadata": {
    "collapsed": false
   },
   "outputs": [],
   "source": [
    "# saving the index and \"MinRevenue\" matching pairs\n",
    "rev = dicts['MinRevenue']"
   ]
  },
  {
   "cell_type": "code",
   "execution_count": 33,
   "metadata": {
    "collapsed": false
   },
   "outputs": [],
   "source": [
    "# saving the index and \"MedianPrice\" matching pairs\n",
    "median = dicts['MedianPrice']"
   ]
  },
  {
   "cell_type": "code",
   "execution_count": 34,
   "metadata": {
    "collapsed": true
   },
   "outputs": [],
   "source": [
    "# saving the index and \"Latitude\" matching pairs\n",
    "lat = dicts['Latitude']"
   ]
  },
  {
   "cell_type": "code",
   "execution_count": 35,
   "metadata": {
    "collapsed": true
   },
   "outputs": [],
   "source": [
    "# saving the index and \"Longitude\" matching pairs\n",
    "lon = dicts['Longitude']"
   ]
  },
  {
   "cell_type": "code",
   "execution_count": 36,
   "metadata": {
    "collapsed": true
   },
   "outputs": [],
   "source": [
    "# Lets get the modules to start plotting\n",
    "import pylab as plt\n",
    "from mpl_toolkits.basemap import Basemap\n",
    "plt.close('all')"
   ]
  },
  {
   "cell_type": "code",
   "execution_count": 37,
   "metadata": {
    "collapsed": false
   },
   "outputs": [
    {
     "data": {
      "image/png": "[encoded data removed]",
      "text/plain": [
       "<matplotlib.figure.Figure at 0x11aa20c90>"
      ]
     },
     "metadata": {},
     "output_type": "display_data"
    }
   ],
   "source": [
    "# Lets draw the map of the United States, and translate those latitude and longitude values to x,y coordinates.\n",
    "\n",
    "m = Basemap(llcrnrlon=-119,llcrnrlat=22,urcrnrlon=-64,urcrnrlat=49,\n",
    "projection='lcc',lat_1=33,lat_2=45,lon_0=-95,resolution='c')\n",
    "m.drawcoastlines()\n",
    "m.drawstates()\n",
    "m.drawcountries()\n",
    "longs = lon.values()\n",
    "lats = lat.values()\n",
    "x, y = m(longs, lats)\n",
    "\n",
    "# Lets represent the size of the dots on this map as the median price.\n",
    "\n",
    "z = median.values()\n",
    "m.scatter(x=x, y=y, s=z, marker='o',color='b')\n",
    "plt.show()"
   ]
  },
  {
   "cell_type": "code",
   "execution_count": 38,
   "metadata": {
    "collapsed": false
   },
   "outputs": [],
   "source": [
    "# First, lets scale the Revenue values to be in roughly the same significant figures as median values.\n",
    "z2 = rev.values()\n",
    "z2scaled = map(lambda x: x / 10000,z2)"
   ]
  },
  {
   "cell_type": "code",
   "execution_count": 39,
   "metadata": {
    "collapsed": false
   },
   "outputs": [
    {
     "data": {
      "image/png": "[encoded data removed]",
      "text/plain": [
       "<matplotlib.figure.Figure at 0x11aa20d10>"
      ]
     },
     "metadata": {},
     "output_type": "display_data"
    }
   ],
   "source": [
    "#  Now lets plot the minimum revenue per city from Treeforts.\n",
    "\n",
    "m = Basemap(llcrnrlon=-119,llcrnrlat=22,urcrnrlon=-64,urcrnrlat=49,\n",
    "projection='lcc',lat_1=33,lat_2=45,lon_0=-95,resolution='c')\n",
    "m.drawcoastlines()\n",
    "m.drawstates()\n",
    "m.drawcountries()\n",
    "longs = lon.values()\n",
    "lats = lat.values()\n",
    "x, y = m(longs, lats)\n",
    "\n",
    "# This time the size of the dots (s) will be z2scaled instead - the Minimum Revenue for each city.\n",
    "\n",
    "m.scatter(x=x, y=y, s=z2scaled, marker='o',color='g')\n",
    "plt.show()"
   ]
  },
  {
   "cell_type": "code",
   "execution_count": 40,
   "metadata": {
    "collapsed": false
   },
   "outputs": [],
   "source": [
    "# Interesting. The blue dots represent median, the green represent minimum revenue.\n",
    "# There is a huge difference between the two. Owners are setting all sorts of prices all over the United States...\n",
    "# But the cities with the highest revenue don't seem to have the highest median price.\n",
    "\n",
    "# I wonder if this represents a key difference in the forts. Perhaps outside of major dense cities, like SF and NY, \n",
    "# Treeforts on TreeFort BNB are so large that they can't be reasonably rented below a certain price.\n",
    "\n",
    "# Would be interesting to see if we could have an \"Average Square Foot\" column to also help us study correlations here."
   ]
  }
 ],
 "metadata": {
  "anaconda-cloud": {},
  "kernelspec": {
   "display_name": "Python [default]",
   "language": "python",
   "name": "python2"
  },
  "language_info": {
   "codemirror_mode": {
    "name": "ipython",
    "version": 2
   },
   "file_extension": ".py",
   "mimetype": "text/x-python",
   "name": "python",
   "nbconvert_exporter": "python",
   "pygments_lexer": "ipython2",
   "version": "2.7.12"
  }
 },
 "nbformat": 4,
 "nbformat_minor": 1
}
